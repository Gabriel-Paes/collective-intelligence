{
 "cells": [
  {
   "cell_type": "markdown",
   "id": "9383f819",
   "metadata": {},
   "source": [
    "# **Estudo Dirigido: PSO**\n",
    "Implementando o Algoritmo Enxame de Partículas (PSO) para o problema do Caixeiro Viajante (TSP)\n",
    "\n",
    "**Parâmetros do PSO:**\n",
    "\n",
    "1. Número de Partículas (num_particles): O número de partículas no enxame. Cada partícula representa uma solução candidata no espaço de busca.\n",
    "\n",
    "2. Número de Iterações (num_iterations): O número de vezes que o algoritmo irá iterar sobre o enxame. Mais iterações geralmente aumentam a chance de encontrar uma boa solução, mas também aumentam o tempo de execução.\n",
    "\n",
    "3. Limites do Espaço de Busca (bounds): Define os limites do espaço de busca para cada dimensão do problema. Este parâmetro ajuda a restringir as soluções possíveis dentro de um intervalo específico.\n",
    "\n",
    "4. Peso de Inércia (inertia_weight): Controla a influência da velocidade anterior da partícula na atualização da sua posição. Um valor maior de inércia pode ajudar na exploração do espaço de busca, enquanto um valor menor pode ajudar na explotação.\n",
    "\n",
    "5. Parâmetro c1 (c1) e Parâmetro c2 (c2): São fatores de aprendizagem que controlam a influência das melhores posições pessoais e globais na atualização da velocidade das partículas. O parâmetro c1 controla a influência da melhor posição pessoal, enquanto o parâmetro c2 controla a influência da melhor posição global.\n"
   ]
  },
  {
   "cell_type": "code",
   "execution_count": 421,
   "id": "c6497665",
   "metadata": {},
   "outputs": [
    {
     "name": "stdout",
     "output_type": "stream",
     "text": [
      "Defaulting to user installation because normal site-packages is not writeable\n",
      "Requirement already satisfied: matplotlib in c:\\users\\gabri\\appdata\\local\\packages\\pythonsoftwarefoundation.python.3.12_qbz5n2kfra8p0\\localcache\\local-packages\\python312\\site-packages (3.8.4)\n",
      "Requirement already satisfied: contourpy>=1.0.1 in c:\\users\\gabri\\appdata\\local\\packages\\pythonsoftwarefoundation.python.3.12_qbz5n2kfra8p0\\localcache\\local-packages\\python312\\site-packages (from matplotlib) (1.2.1)\n",
      "Requirement already satisfied: cycler>=0.10 in c:\\users\\gabri\\appdata\\local\\packages\\pythonsoftwarefoundation.python.3.12_qbz5n2kfra8p0\\localcache\\local-packages\\python312\\site-packages (from matplotlib) (0.12.1)\n",
      "Requirement already satisfied: fonttools>=4.22.0 in c:\\users\\gabri\\appdata\\local\\packages\\pythonsoftwarefoundation.python.3.12_qbz5n2kfra8p0\\localcache\\local-packages\\python312\\site-packages (from matplotlib) (4.51.0)\n",
      "Requirement already satisfied: kiwisolver>=1.3.1 in c:\\users\\gabri\\appdata\\local\\packages\\pythonsoftwarefoundation.python.3.12_qbz5n2kfra8p0\\localcache\\local-packages\\python312\\site-packages (from matplotlib) (1.4.5)\n",
      "Requirement already satisfied: numpy>=1.21 in c:\\users\\gabri\\appdata\\local\\packages\\pythonsoftwarefoundation.python.3.12_qbz5n2kfra8p0\\localcache\\local-packages\\python312\\site-packages (from matplotlib) (1.26.4)\n",
      "Requirement already satisfied: packaging>=20.0 in c:\\users\\gabri\\appdata\\local\\packages\\pythonsoftwarefoundation.python.3.12_qbz5n2kfra8p0\\localcache\\local-packages\\python312\\site-packages (from matplotlib) (24.0)\n",
      "Requirement already satisfied: pillow>=8 in c:\\users\\gabri\\appdata\\local\\packages\\pythonsoftwarefoundation.python.3.12_qbz5n2kfra8p0\\localcache\\local-packages\\python312\\site-packages (from matplotlib) (10.3.0)\n",
      "Requirement already satisfied: pyparsing>=2.3.1 in c:\\users\\gabri\\appdata\\local\\packages\\pythonsoftwarefoundation.python.3.12_qbz5n2kfra8p0\\localcache\\local-packages\\python312\\site-packages (from matplotlib) (3.1.2)\n",
      "Requirement already satisfied: python-dateutil>=2.7 in c:\\users\\gabri\\appdata\\local\\packages\\pythonsoftwarefoundation.python.3.12_qbz5n2kfra8p0\\localcache\\local-packages\\python312\\site-packages (from matplotlib) (2.9.0.post0)\n",
      "Requirement already satisfied: six>=1.5 in c:\\users\\gabri\\appdata\\local\\packages\\pythonsoftwarefoundation.python.3.12_qbz5n2kfra8p0\\localcache\\local-packages\\python312\\site-packages (from python-dateutil>=2.7->matplotlib) (1.16.0)\n",
      "Defaulting to user installation because normal site-packages is not writeable\n",
      "Requirement already satisfied: numpy in c:\\users\\gabri\\appdata\\local\\packages\\pythonsoftwarefoundation.python.3.12_qbz5n2kfra8p0\\localcache\\local-packages\\python312\\site-packages (1.26.4)\n"
     ]
    }
   ],
   "source": [
    "# Primeiro, instale as bibliotecas necessárias\n",
    "!pip install matplotlib\n",
    "!pip install numpy"
   ]
  },
  {
   "cell_type": "code",
   "execution_count": 422,
   "id": "04af996f-247a-4cfc-adfe-d9708c27f42c",
   "metadata": {},
   "outputs": [],
   "source": [
    "# 1. Importar bibliotecas necessárias:\n",
    "import numpy as np\n",
    "import matplotlib.pyplot as plt"
   ]
  },
  {
   "cell_type": "code",
   "execution_count": 423,
   "id": "3ce3dbbb",
   "metadata": {},
   "outputs": [],
   "source": [
    "# Definir a função de custo (fitness) para o TSP\n",
    "def tsp_fitness(path, distances):\n",
    "    cost = 0\n",
    "    for i in range(len(path) - 1):\n",
    "        cost += distances[path[i]][path[i + 1]]\n",
    "    # Adicionar o custo do retorno à cidade inicial\n",
    "    cost += distances[path[-1]][path[0]]\n",
    "    return cost"
   ]
  },
  {
   "cell_type": "code",
   "execution_count": 424,
   "id": "d6a198ff",
   "metadata": {},
   "outputs": [],
   "source": [
    "# Definir a classe Particle para representar uma solução do TSP:\n",
    "class Particle:\n",
    "    def __init__(self, num_nodes):\n",
    "        self.path = np.random.permutation(num_nodes)\n",
    "        self.velocity = 2\n",
    "        self.best_path = self.path.copy()\n",
    "        \n",
    "    def update_path(self, global_best_path, inertia_weight, c1, c2):\n",
    "        self.updated_velocity(global_best_path, inertia_weight, c1, c2)\n",
    "\n",
    "        self.velocity = np.clip(self.velocity, -1 * len(self.path), len(self.path))\n",
    "\n",
    "        self.path += self.velocity.astype(int)\n",
    "\n",
    "        self.path = np.clip(self.path, 0, len(self.path) - 1)\n",
    "\n",
    "    def updated_velocity(self, global_best_path, inertia_weight, c1, c2):\n",
    "        self.velocity = inertia_weight * self.velocity + \\\n",
    "                        c1 * np.random.rand() * (self.best_path - self.path) + \\\n",
    "                        c2 * np.random.rand() * (global_best_path - self.path)"
   ]
  },
  {
   "cell_type": "code",
   "execution_count": 425,
   "id": "86ae6089",
   "metadata": {},
   "outputs": [],
   "source": [
    "# Definir a função PSO para o TSP:\n",
    "def pso_tsp(distances, num_particles, num_iterations, inertia_weight, c1, c2):\n",
    "    num_nodes = len(distances)\n",
    "    global_best_path = None\n",
    "    global_best_cost = float('inf')\n",
    "    best_costs = []\n",
    "\n",
    "    # Inicializar partículas\n",
    "    particles = [Particle(num_nodes) for _ in range(num_particles)]\n",
    "\n",
    "    for _ in range(num_iterations):\n",
    "        # Avaliar o custo de cada partícula\n",
    "        costs = [tsp_fitness(particle.path, distances) for particle in particles]\n",
    "\n",
    "        # Atualizar a melhor solução global\n",
    "        min_cost_idx = np.argmin(costs)\n",
    "        if costs[min_cost_idx] < global_best_cost:\n",
    "            global_best_path = particles[min_cost_idx].path.copy()\n",
    "            global_best_cost = costs[min_cost_idx]\n",
    "        best_costs.append(global_best_cost)\n",
    "\n",
    "        # Atualizar a posição de cada partícula\n",
    "        for particle in particles:\n",
    "            particle.update_path(global_best_path, inertia_weight, c1, c2)\n",
    "\n",
    "    return global_best_path, global_best_cost, best_costs"
   ]
  },
  {
   "cell_type": "code",
   "execution_count": 426,
   "id": "7b0914c6",
   "metadata": {},
   "outputs": [],
   "source": [
    "# Definir os dados do problema e executar o algoritmo PSO para o TSP:\n",
    "\n",
    "# Matriz de distâncias entre as cidades (exemplo)\n",
    "distances = np.array([[0, 10, 15, 20],\n",
    "                      [10, 0, 35, 25],\n",
    "                      [15, 35, 0, 30],\n",
    "                      [20, 25, 30, 0]])\n",
    "\n",
    "num_particles = 30\n",
    "num_iterations = 100\n",
    "inertia_weight = 0.7\n",
    "c1 = 1.5 # Cognitive coefficient\n",
    "c2 = 1.5 # Social coefficient\n",
    "\n",
    "best_path, best_cost, best_costs_history = pso_tsp(distances, num_particles, num_iterations, inertia_weight, c1, c2)"
   ]
  },
  {
   "cell_type": "code",
   "execution_count": 427,
   "id": "967ac9eb",
   "metadata": {},
   "outputs": [
    {
     "name": "stdout",
     "output_type": "stream",
     "text": [
      "Número de partículas: 30\n",
      "Número de interações: 100\n",
      "Peso da inércia: 0.7\n",
      "Parâmetro cognitivo: 1.5\n",
      "Parâmetro social: 1.5\n"
     ]
    },
    {
     "data": {
      "image/png": "[encoded data removed]",
      "text/plain": [
       "<Figure size 640x480 with 1 Axes>"
      ]
     },
     "metadata": {},
     "output_type": "display_data"
    },
    {
     "name": "stdout",
     "output_type": "stream",
     "text": [
      "Melhor rota encontrada: [3 3 3 3]\n",
      "Custo da melhor rota: 0\n"
     ]
    }
   ],
   "source": [
    "# Visualizar parâmetros para essa rodada:\n",
    "print(f\"Número de partículas: {num_particles}\")\n",
    "print(f\"Número de interações: {num_iterations}\")\n",
    "print(f\"Peso da inércia: {inertia_weight}\")\n",
    "print(f\"Parâmetro cognitivo: {c1}\")\n",
    "print(f\"Parâmetro social: {c2}\")\n",
    "\n",
    "# Visualizar a convergência do PSO para o TSP:\n",
    "\n",
    "# Plot do custo da melhor solução encontrada ao longo das iterações\n",
    "plt.plot(best_costs_history)\n",
    "plt.xlabel('Número de Iterações')\n",
    "plt.ylabel('Custo da Melhor Solução')\n",
    "plt.title('Convergência do PSO para o TSP')\n",
    "plt.grid(True)\n",
    "plt.show()\n",
    "\n",
    "print(\"Melhor rota encontrada:\", best_path)\n",
    "print(\"Custo da melhor rota:\", best_cost)"
   ]
  },
  {
   "cell_type": "markdown",
   "id": "cf5f642b",
   "metadata": {},
   "source": [
    "# **Atividade:  Explorando Parâmetros do PSO**\n",
    "\n",
    "Vamos realizar algumas alterações no códido acima para entender o comportamento do algoritmo. Documente os resultados em um doc ou pdf. Mostre o print e dê uma breve explicação do que ocorreu em cada etapa.\n",
    "\n",
    "1. Número de Partículas (num_particles): Varie o número de partículas no enxame e observe como isso afeta a capacidade do algoritmo de explorar e encontrar o ótimo global.\n",
    "\n",
    "2. Peso de Inércia (inertia_weight): Modifique o peso de inércia e analise como isso influencia a velocidade de convergência do algoritmo e sua capacidade de escapar de mínimos locais.\n",
    "\n",
    "3. Parâmetro c1 (c1): Altere o parâmetro c1, que controla a influência da melhor posição pessoal na atualização da velocidade das partículas, e observe como isso afeta a exploração e a explotação do espaço de busca.\n",
    "\n",
    "4. Parâmetro c2 (c2): Modifique o parâmetro c2, que controla a influência da melhor posição global na atualização da velocidade das partículas, e analise como isso afeta a capacidade do algoritmo de convergir para o ótimo global.\n",
    "\n",
    "5. Limites do Espaço de Busca (bounds): Altere os limites do espaço de busca e observe como isso afeta o comportamento das partículas e a qualidade da solução encontrada."
   ]
  }
 ],
 "metadata": {
  "kernelspec": {
   "display_name": "Python 3 (ipykernel)",
   "language": "python",
   "name": "python3"
  },
  "language_info": {
   "codemirror_mode": {
    "name": "ipython",
    "version": 3
   },
   "file_extension": ".py",
   "mimetype": "text/x-python",
   "name": "python",
   "nbconvert_exporter": "python",
   "pygments_lexer": "ipython3",
   "version": "3.12.3"
  }
 },
 "nbformat": 4,
 "nbformat_minor": 5
}
